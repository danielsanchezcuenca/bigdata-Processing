{
 "cells": [
  {
   "cell_type": "code",
   "execution_count": 61,
   "id": "1e6b625e",
   "metadata": {},
   "outputs": [],
   "source": [
    "from pyspark.sql.functions import *\n",
    "from pyspark.sql.types import *\n",
    "from pyspark.sql import SparkSession\n",
    "sesion_spark = SparkSession.builder.appName(\"pysparkdf\").getOrCreate()\n",
    "from pyspark.sql.window import Window"
   ]
  },
  {
   "cell_type": "code",
   "execution_count": 62,
   "id": "aed6041a",
   "metadata": {},
   "outputs": [],
   "source": [
    "\n",
    "ruta_2021 = 'Datasets/world-happiness-report-2021.csv'\n",
    "ruta_historico = 'Datasets/world-happiness-report.csv'\n",
    "\n",
    "df_hapinnes_2021 = sesion_spark.read.csv(ruta_2021, header=True, inferSchema=True)\n",
    "df_hapinnes_historico = sesion_spark.read.csv(ruta_historico, header=True, inferSchema=True)\n"
   ]
  },
  {
   "cell_type": "code",
   "execution_count": 63,
   "id": "989bebc6",
   "metadata": {},
   "outputs": [
    {
     "name": "stdout",
     "output_type": "stream",
     "text": [
      "+------------+------------------+------------+------------------------------+------------+------------+---------------------+--------------+-----------------------+----------------------------+----------+-------------------------+------------------------+--------------------------------+----------------------------+-------------------------------------+------------------------------------------+------------------------+---------------------------------------+-------------------+\n",
      "|Country name|Regional indicator|Ladder score|Standard error of ladder score|upperwhisker|lowerwhisker|Logged GDP per capita|Social support|Healthy life expectancy|Freedom to make life choices|Generosity|Perceptions of corruption|Ladder score in Dystopia|Explained by: Log GDP per capita|Explained by: Social support|Explained by: Healthy life expectancy|Explained by: Freedom to make life choices|Explained by: Generosity|Explained by: Perceptions of corruption|Dystopia + residual|\n",
      "+------------+------------------+------------+------------------------------+------------+------------+---------------------+--------------+-----------------------+----------------------------+----------+-------------------------+------------------------+--------------------------------+----------------------------+-------------------------------------+------------------------------------------+------------------------+---------------------------------------+-------------------+\n",
      "|     Finland|    Western Europe|       7.842|                         0.032|       7.904|        7.78|               10.775|         0.954|                   72.0|                       0.949|    -0.098|                    0.186|                    2.43|                           1.446|                       1.106|                                0.741|                                     0.691|                   0.124|                                  0.481|              3.253|\n",
      "|     Denmark|    Western Europe|        7.62|                         0.035|       7.687|       7.552|               10.933|         0.954|                   72.7|                       0.946|      0.03|                    0.179|                    2.43|                           1.502|                       1.108|                                0.763|                                     0.686|                   0.208|                                  0.485|              2.868|\n",
      "| Switzerland|    Western Europe|       7.571|                         0.036|       7.643|         7.5|               11.117|         0.942|                   74.4|                       0.919|     0.025|                    0.292|                    2.43|                           1.566|                       1.079|                                0.816|                                     0.653|                   0.204|                                  0.413|              2.839|\n",
      "|     Iceland|    Western Europe|       7.554|                         0.059|        7.67|       7.438|               10.878|         0.983|                   73.0|                       0.955|      0.16|                    0.673|                    2.43|                           1.482|                       1.172|                                0.772|                                     0.698|                   0.293|                                   0.17|              2.967|\n",
      "| Netherlands|    Western Europe|       7.464|                         0.027|       7.518|        7.41|               10.932|         0.942|                   72.4|                       0.913|     0.175|                    0.338|                    2.43|                           1.501|                       1.079|                                0.753|                                     0.647|                   0.302|                                  0.384|              2.798|\n",
      "+------------+------------------+------------+------------------------------+------------+------------+---------------------+--------------+-----------------------+----------------------------+----------+-------------------------+------------------------+--------------------------------+----------------------------+-------------------------------------+------------------------------------------+------------------------+---------------------------------------+-------------------+\n",
      "only showing top 5 rows\n",
      "\n",
      "+------------+----+-----------+------------------+--------------+--------------------------------+----------------------------+----------+-------------------------+---------------+---------------+\n",
      "|Country name|year|Life Ladder|Log GDP per capita|Social support|Healthy life expectancy at birth|Freedom to make life choices|Generosity|Perceptions of corruption|Positive affect|Negative affect|\n",
      "+------------+----+-----------+------------------+--------------+--------------------------------+----------------------------+----------+-------------------------+---------------+---------------+\n",
      "| Afghanistan|2008|      3.724|              7.37|         0.451|                            50.8|                       0.718|     0.168|                    0.882|          0.518|          0.258|\n",
      "| Afghanistan|2009|      4.402|              7.54|         0.552|                            51.2|                       0.679|      0.19|                     0.85|          0.584|          0.237|\n",
      "| Afghanistan|2010|      4.758|             7.647|         0.539|                            51.6|                         0.6|     0.121|                    0.707|          0.618|          0.275|\n",
      "| Afghanistan|2011|      3.832|              7.62|         0.521|                           51.92|                       0.496|     0.162|                    0.731|          0.611|          0.267|\n",
      "| Afghanistan|2012|      3.783|             7.705|         0.521|                           52.24|                       0.531|     0.236|                    0.776|           0.71|          0.268|\n",
      "+------------+----+-----------+------------------+--------------+--------------------------------+----------------------------+----------+-------------------------+---------------+---------------+\n",
      "only showing top 5 rows\n",
      "\n",
      "root\n",
      " |-- Country name: string (nullable = true)\n",
      " |-- Regional indicator: string (nullable = true)\n",
      " |-- Ladder score: double (nullable = true)\n",
      " |-- Standard error of ladder score: double (nullable = true)\n",
      " |-- upperwhisker: double (nullable = true)\n",
      " |-- lowerwhisker: double (nullable = true)\n",
      " |-- Logged GDP per capita: double (nullable = true)\n",
      " |-- Social support: double (nullable = true)\n",
      " |-- Healthy life expectancy: double (nullable = true)\n",
      " |-- Freedom to make life choices: double (nullable = true)\n",
      " |-- Generosity: double (nullable = true)\n",
      " |-- Perceptions of corruption: double (nullable = true)\n",
      " |-- Ladder score in Dystopia: double (nullable = true)\n",
      " |-- Explained by: Log GDP per capita: double (nullable = true)\n",
      " |-- Explained by: Social support: double (nullable = true)\n",
      " |-- Explained by: Healthy life expectancy: double (nullable = true)\n",
      " |-- Explained by: Freedom to make life choices: double (nullable = true)\n",
      " |-- Explained by: Generosity: double (nullable = true)\n",
      " |-- Explained by: Perceptions of corruption: double (nullable = true)\n",
      " |-- Dystopia + residual: double (nullable = true)\n",
      "\n"
     ]
    }
   ],
   "source": [
    "\n",
    "# Mostrando los primeros registros de los DataFrames\n",
    "df_hapinnes_2021.show(5)\n",
    "df_hapinnes_historico.show(5)\n",
    "\n",
    "# Mostrando el esquema del DataFrame de felicidad 2021\n",
    "df_hapinnes_2021.printSchema()\n"
   ]
  },
  {
   "cell_type": "code",
   "execution_count": 64,
   "id": "5d4bea6b",
   "metadata": {},
   "outputs": [
    {
     "name": "stdout",
     "output_type": "stream",
     "text": [
      "+------------+------------+\n",
      "|Country name|Ladder score|\n",
      "+------------+------------+\n",
      "|     Finland|       7.842|\n",
      "+------------+------------+\n",
      "\n"
     ]
    }
   ],
   "source": [
    "\n",
    "# Ejercicio 1: País con mayor índice de felicidad\n",
    "pais_mas_feliz_2021 = df_hapinnes_2021.orderBy(desc(\"Ladder score\")).select(\"Country name\", \"Ladder score\").limit(1)\n",
    "pais_mas_feliz_2021.show()\n",
    "\n"
   ]
  },
  {
   "cell_type": "code",
   "execution_count": 65,
   "id": "8f3cb56b",
   "metadata": {},
   "outputs": [
    {
     "name": "stdout",
     "output_type": "stream",
     "text": [
      "+----------------------------------+----------+\n",
      "|Indicador Regional                |Continente|\n",
      "+----------------------------------+----------+\n",
      "|Western Europe                    |Europa    |\n",
      "|North America and ANZ             |America   |\n",
      "|Middle East and North Africa      |Africa    |\n",
      "|Latin America and Caribbean       |America   |\n",
      "|Central and Eastern Europe        |Europa    |\n",
      "|East Asia                         |Asia      |\n",
      "|Southeast Asia                    |Asia      |\n",
      "|Commonwealth of Independent States|Asia      |\n",
      "|Sub-Saharan Africa                |Africa    |\n",
      "|South Asia                        |Asia      |\n",
      "+----------------------------------+----------+\n",
      "\n"
     ]
    }
   ],
   "source": [
    "#EJERCICIO2\n",
    "df_continentes = sesion_spark.createDataFrame([\n",
    "    (\"Western Europe\", \"Europa\"), \n",
    "    (\"North America and ANZ\", \"America\"),\n",
    "    (\"Middle East and North Africa\", \"Africa\"), \n",
    "    (\"Latin America and Caribbean\", \"America\"),\n",
    "    (\"Central and Eastern Europe\", \"Europa\"), \n",
    "    (\"East Asia\", \"Asia\"),\n",
    "    (\"Southeast Asia\", \"Asia\"), \n",
    "    (\"Commonwealth of Independent States\", \"Asia\"),\n",
    "    (\"Sub-Saharan Africa\", \"Africa\"), \n",
    "    (\"South Asia\",\"Asia\")],\n",
    "    [\"Indicador Regional\", \"Continente\"])\n",
    "df_continentes.show(truncate=False)\n"
   ]
  },
  {
   "cell_type": "code",
   "execution_count": 66,
   "id": "08c183cd",
   "metadata": {},
   "outputs": [],
   "source": [
    "\n",
    "columnas_continentes = [\"Regional Indicator\", \"Continente\"]\n",
    "df_continentes = sesion_spark.createDataFrame(datos_continentes, columnas_continentes)\n"
   ]
  },
  {
   "cell_type": "code",
   "execution_count": 67,
   "id": "8bf1c5be",
   "metadata": {},
   "outputs": [
    {
     "name": "stdout",
     "output_type": "stream",
     "text": [
      "+----------+--------------------+----------------+\n",
      "|Continente|        Country name|Max Ladder Score|\n",
      "+----------+--------------------+----------------+\n",
      "|   América|         New Zealand|           7.277|\n",
      "|      Asia|Taiwan Province o...|           6.584|\n",
      "|    Europa|             Finland|           7.842|\n",
      "|    África|              Israel|           7.157|\n",
      "+----------+--------------------+----------------+\n",
      "\n"
     ]
    }
   ],
   "source": [
    "from pyspark.sql.functions import col, max, desc\n",
    "\n",
    "# Unión de los DataFrames\n",
    "df_union = df_hapinnes_2021.join(df_continentes, \"Regional Indicator\")\n",
    "\n",
    "# Encontrar el puntaje máximo de felicidad por continente\n",
    "df_max_ladder_por_continente = df_union.groupBy(\"Continente\")\\\n",
    "    .agg(max(\"Ladder score\").alias(\"Max Ladder Score\"))\n",
    "\n",
    "# Unir con el DataFrame original para obtener el nombre del país\n",
    "df_pais_mas_feliz_por_continente = df_max_ladder_por_continente.join(df_union, \n",
    "                                                                     (df_union.Continente == df_max_ladder_por_continente.Continente) &\n",
    "                                                                     (df_union[\"Ladder score\"] == df_max_ladder_por_continente[\"Max Ladder Score\"]))\\\n",
    "    .select(df_max_ladder_por_continente.Continente, \"Country name\", \"Max Ladder Score\")\\\n",
    "    .orderBy(\"Continente\")\n",
    "\n",
    "# Mostrar el resultado\n",
    "df_pais_mas_feliz_por_continente.show()\n"
   ]
  },
  {
   "cell_type": "code",
   "execution_count": 68,
   "id": "5baef233",
   "metadata": {},
   "outputs": [
    {
     "name": "stdout",
     "output_type": "stream",
     "text": [
      "+------------+-----+\n",
      "|Country name|count|\n",
      "+------------+-----+\n",
      "|     Denmark|    7|\n",
      "+------------+-----+\n",
      "\n"
     ]
    }
   ],
   "source": [
    "#EJERCICIO3\n",
    "from pyspark.sql.functions import col, desc\n",
    "from pyspark.sql.window import Window\n",
    "from pyspark.sql.functions import rank\n",
    "\n",
    "windowSpec = Window.partitionBy(\"year\").orderBy(desc(\"Life Ladder\"))\n",
    "\n",
    "pais_primer_lugar = df_hapinnes_historico.withColumn(\"rank\", rank().over(windowSpec))\\\n",
    "    .filter(col(\"rank\") == 1)\\\n",
    "    .groupBy(\"Country name\").count()\\\n",
    "    .orderBy(desc(\"count\"))\n",
    "\n",
    "max_count = pais_primer_lugar.agg({\"count\": \"max\"}).collect()[0][0]\n",
    "pais_primer_lugar.filter(col(\"count\") == max_count).show()\n"
   ]
  },
  {
   "cell_type": "code",
   "execution_count": 69,
   "id": "1a04493f",
   "metadata": {},
   "outputs": [
    {
     "name": "stdout",
     "output_type": "stream",
     "text": [
      "+------------+-----------+--------------+\n",
      "|Country name|Life Ladder|Happiness Rank|\n",
      "+------------+-----------+--------------+\n",
      "|     Ireland|      7.035|            13|\n",
      "+------------+-----------+--------------+\n",
      "\n"
     ]
    }
   ],
   "source": [
    "#EJERCICIO4\n",
    "from pyspark.sql.functions import desc, rank\n",
    "from pyspark.sql.window import Window\n",
    "\n",
    "# Ventana para el ranking de felicidad\n",
    "windowSpec = Window.partitionBy(\"year\").orderBy(desc(\"Life Ladder\"))\n",
    "\n",
    "\n",
    "df_ranking_2020 = df_hapinnes_historico.filter(df_hapinnes_historico[\"year\"] == 2020)\\\n",
    "    .withColumn(\"Happiness Rank\", rank().over(windowSpec))\n",
    "\n",
    "# Encontrar el país con el mayor GDP en 2020\n",
    "pais_mayor_gdp_2020 = df_ranking_2020.orderBy(desc(\"Log GDP per capita\")).select(\"Country name\").limit(1)\n",
    "pais_mayor_gdp_2020_nombre = pais_mayor_gdp_2020.collect()[0][0]  # Obtiene el nombre del país\n",
    "\n",
    "# Obtener el puesto de felicidad de ese país\n",
    "puesto_felicidad = df_ranking_2020.filter(df_ranking_2020[\"Country name\"] == pais_mayor_gdp_2020_nombre)\\\n",
    "    .select(\"Country name\", \"Life Ladder\", \"Happiness Rank\")\n",
    "\n",
    "puesto_felicidad.show()\n"
   ]
  },
  {
   "cell_type": "code",
   "execution_count": 70,
   "id": "163738d1",
   "metadata": {},
   "outputs": [
    {
     "name": "stdout",
     "output_type": "stream",
     "text": [
      "+-----------------+-----------------+-------------------+\n",
      "|     avg_gdp_2020|     avg_gdp_2021|      variacion_gdp|\n",
      "+-----------------+-----------------+-------------------+\n",
      "|9.751329545454546|9.432208053691273|-3.2725946782511013|\n",
      "+-----------------+-----------------+-------------------+\n",
      "\n"
     ]
    }
   ],
   "source": [
    "from pyspark.sql.functions import col\n",
    "\n",
    "# Calculando el PIB promedio para 2020\n",
    "gdp_promedio_2020 = df_hapinnes_historico.filter(df_hapinnes_historico[\"year\"] == 2020)\\\n",
    "    .agg({\"Log GDP per capita\": \"avg\"})\\\n",
    "    .withColumnRenamed(\"avg(Log GDP per capita)\", \"avg_gdp_2020\")\n",
    "\n",
    "# Calculando el PIB promedio para 2021\n",
    "gdp_promedio_2021 = df_hapinnes_2021.agg({\"Logged GDP per capita\": \"avg\"})\\\n",
    "    .withColumnRenamed(\"avg(Logged GDP per capita)\", \"avg_gdp_2021\")\n",
    "\n",
    "# Calculando la variación del PIB promedio del 2020 al 2021\n",
    "variacion_gdp = gdp_promedio_2020.join(gdp_promedio_2021)\\\n",
    "    .withColumn(\"variacion_gdp\", (col(\"avg_gdp_2021\") - col(\"avg_gdp_2020\")) / col(\"avg_gdp_2020\") * 100)\n",
    "\n",
    "variacion_gdp.show()\n",
    "\n",
    "\n"
   ]
  },
  {
   "cell_type": "code",
   "execution_count": null,
   "id": "17df4539",
   "metadata": {},
   "outputs": [],
   "source": []
  },
  {
   "cell_type": "code",
   "execution_count": null,
   "id": "c34c6bd0",
   "metadata": {},
   "outputs": [],
   "source": []
  },
  {
   "cell_type": "code",
   "execution_count": null,
   "id": "077f9beb",
   "metadata": {},
   "outputs": [],
   "source": []
  }
 ],
 "metadata": {
  "kernelspec": {
   "display_name": "Python 3 (ipykernel)",
   "language": "python",
   "name": "python3"
  },
  "language_info": {
   "codemirror_mode": {
    "name": "ipython",
    "version": 3
   },
   "file_extension": ".py",
   "mimetype": "text/x-python",
   "name": "python",
   "nbconvert_exporter": "python",
   "pygments_lexer": "ipython3",
   "version": "3.11.6"
  }
 },
 "nbformat": 4,
 "nbformat_minor": 5
}
